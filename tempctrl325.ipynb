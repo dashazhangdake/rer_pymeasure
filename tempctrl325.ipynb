{
 "cells": [
  {
   "cell_type": "code",
   "execution_count": 9,
   "id": "0bf21ba1",
   "metadata": {},
   "outputs": [],
   "source": [
    "import pymeasure\n",
    "from pymeasure.adapters import VXI11Adapter\n",
    "import logging\n",
    "\n",
    "from time import sleep, time\n",
    "\n",
    "from pymeasure.instruments import Instrument\n",
    "from pymeasure.instruments.validators import strict_discrete_set"
   ]
  },
  {
   "cell_type": "code",
   "execution_count": 10,
   "id": "ed4b6e9e",
   "metadata": {},
   "outputs": [],
   "source": [
    "class Lakeshore325(Instrument):\n",
    "    \n",
    "    def __init__(self, adapter, **kwargs):\n",
    "        super().__init__(\n",
    "            adapter,\n",
    "            \"Lake Shore 32 Temperature Controller\",\n",
    "            **kwargs\n",
    "        )\n",
    "    \n",
    "    temperature_A = Instrument.measurement(\n",
    "        \"KRDG? A\",\n",
    "        \"\"\" Reads the temperature of the sensor A in Kelvin. \"\"\"\n",
    "    )\n",
    "    \n",
    "    temperature_B = Instrument.measurement(\n",
    "        \"KRDG? B\",\n",
    "        \"\"\" Reads the temperature of the sensor B in Kelvin. \"\"\"\n",
    "    )\n",
    "\n",
    "    setpoint_1 = Instrument.control(\n",
    "        \"SETP? 1\", \"SETP 1, %g\",\n",
    "        \"\"\" A floating point property that controls the setpoint temperature\n",
    "        in Kelvin for Loop 1. \"\"\"\n",
    "    )\n",
    "    setpoint_2 = Instrument.control(\n",
    "        \"SETP? 2\", \"SETP 2, %g\",\n",
    "        \"\"\" A floating point property that controls the setpoint temperature\n",
    "        in Kelvin for Loop 2. \"\"\"\n",
    "    )\n",
    "    \n",
    "    heater_range = Instrument.control(\n",
    "        \"RANGE?\", \"RANGE 1, %d\",\n",
    "        \"\"\" A string property that controls the heater range, which\n",
    "        can take the values: off, low, medium, and high. These values\n",
    "        correlate to 0, 0.5, 5 and 50 W respectively. \"\"\",\n",
    "        validator=strict_discrete_set,\n",
    "        values={'off': 0, 'low': 1, 'high': 2},\n",
    "        map_values=True\n",
    "    )\n",
    "    \n",
    "    \n",
    "    def disable_heater(self):\n",
    "        \"\"\" Turns the :attr:`~.heater_range` to :code:`off` to disable the heater. \"\"\"\n",
    "        self.heater_range = 'off'\n",
    "        \n",
    "    def wait_for_temperature(self, accuracy=0.1,\n",
    "                             interval=0.1, sensor='A', setpoint=1, timeout=360,\n",
    "                             should_stop=lambda: False):\n",
    "        \"\"\" Blocks the program, waiting for the temperature to reach the setpoint\n",
    "        within the accuracy (%), checking this each interval time in seconds.\n",
    "        :param accuracy: An acceptable percentage deviation between the\n",
    "                         setpoint and temperature\n",
    "        :param interval: A time in seconds that controls the refresh rate\n",
    "        :param sensor: The desired sensor to read, either A or B\n",
    "        :param setpoint: The desired setpoint loop to read, either 1 or 2\n",
    "        :param timeout: A timeout in seconds after which an exception is raised\n",
    "        :param should_stop: A function that returns True if waiting should stop, by\n",
    "                            default this always returns False\n",
    "        \"\"\"\n",
    "        temperature_name = 'temperature_%s' % sensor\n",
    "        setpoint_name = 'setpoint_%d' % setpoint\n",
    "        # Only get the setpoint once, assuming it does not change\n",
    "        setpoint_value = getattr(self, setpoint_name)\n",
    "\n",
    "        def percent_difference(temperature):\n",
    "            return abs(100 * (temperature - setpoint_value) / setpoint_value)\n",
    "        t = time()\n",
    "        while percent_difference(getattr(self, temperature_name)) > accuracy:\n",
    "            sleep(interval)\n",
    "            if (time() - t) > timeout:\n",
    "                raise Exception((\n",
    "                    \"Timeout occurred after waiting %g seconds for \"\n",
    "                    \"the LakeShore 325 temperature to reach %g K.\"\n",
    "                ) % (timeout, setpoint))\n",
    "            if should_stop():\n",
    "                return\n",
    "        print(f'Reached temperature preset: {setpoint_value}, actual value: {getattr(self, temperature_name)}')"
   ]
  },
  {
   "cell_type": "markdown",
   "id": "f120c55f",
   "metadata": {},
   "source": [
    "Connect tempcon using Gateway IP address and GPIO of the instrument"
   ]
  },
  {
   "cell_type": "code",
   "execution_count": 11,
   "id": "92efdfbf",
   "metadata": {},
   "outputs": [],
   "source": [
    "adapter = VXI11Adapter(\"TCPIP::10.8.128.151::gpib0,12::INSTR\")\n",
    "tempcon=Lakeshore325(adapter)"
   ]
  },
  {
   "cell_type": "markdown",
   "id": "20324ac2",
   "metadata": {},
   "source": [
    "Read temperatures from sensor A/B"
   ]
  },
  {
   "cell_type": "code",
   "execution_count": 12,
   "id": "cca99c66",
   "metadata": {},
   "outputs": [
    {
     "data": {
      "text/plain": [
       "305.27"
      ]
     },
     "execution_count": 12,
     "metadata": {},
     "output_type": "execute_result"
    }
   ],
   "source": [
    "tempcon.temperature_A"
   ]
  },
  {
   "cell_type": "code",
   "execution_count": 13,
   "id": "410c6b2c",
   "metadata": {},
   "outputs": [
    {
     "data": {
      "text/plain": [
       "0.0"
      ]
     },
     "execution_count": 13,
     "metadata": {},
     "output_type": "execute_result"
    }
   ],
   "source": [
    "tempcon.temperature_B"
   ]
  },
  {
   "cell_type": "markdown",
   "id": "6e9ae8b1",
   "metadata": {},
   "source": [
    "Set temperature for loop 1 in Kelvin at 307 K"
   ]
  },
  {
   "cell_type": "code",
   "execution_count": 14,
   "id": "02cc52b2",
   "metadata": {},
   "outputs": [],
   "source": [
    "tempcon.setpoint_1 = 307"
   ]
  },
  {
   "cell_type": "markdown",
   "id": "78d91c8c",
   "metadata": {},
   "source": [
    "Set heater range to off/low/high : Manual: pp. 6-32\n",
    "\n",
    "For loop 1:\n",
    "* \"low (1)\": power = 2.5w \n",
    "* \"high (2)\": power = 25w \n",
    "* \"off (0)\"\n",
    "\n",
    "For loop 2:\n",
    "* \"on (1)\"\n",
    "* \"off (0)\"\n",
    "\n",
    "In this example, let's set tempctrl's heater range at \"low\" for loop 1"
   ]
  },
  {
   "cell_type": "code",
   "execution_count": 15,
   "id": "77728d32",
   "metadata": {},
   "outputs": [],
   "source": [
    "tempcon.heater_range = 'high'"
   ]
  },
  {
   "cell_type": "markdown",
   "id": "e26ffa68",
   "metadata": {},
   "source": [
    "Wait until temperature reaches the setpoint and gets stablized"
   ]
  },
  {
   "cell_type": "code",
   "execution_count": 16,
   "id": "2ec1bc0e",
   "metadata": {},
   "outputs": [
    {
     "name": "stdout",
     "output_type": "stream",
     "text": [
      "Reached temperature preset: 307.0, actual value: 306.7\n"
     ]
    }
   ],
   "source": [
    "tempcon.wait_for_temperature()"
   ]
  },
  {
   "cell_type": "markdown",
   "id": "5807f8f2",
   "metadata": {},
   "source": [
    "Wait a few minutes, temperature controller will tweak the temperature by some sort of feedback mechanism. The temperature should be statblized. Now print the current temperature"
   ]
  },
  {
   "cell_type": "code",
   "execution_count": 17,
   "id": "27dbaaa3",
   "metadata": {},
   "outputs": [
    {
     "name": "stdout",
     "output_type": "stream",
     "text": [
      "307.0\n"
     ]
    }
   ],
   "source": [
    "print(tempcon.temperature_A)"
   ]
  },
  {
   "cell_type": "markdown",
   "id": "50250865",
   "metadata": {},
   "source": [
    "After making necessary experiments, Disable heater"
   ]
  },
  {
   "cell_type": "code",
   "execution_count": 18,
   "id": "e927a07c",
   "metadata": {},
   "outputs": [],
   "source": [
    "tempcon.disable_heater()"
   ]
  },
  {
   "cell_type": "markdown",
   "id": "89985b6b",
   "metadata": {},
   "source": [
    "After a while, we should observe a decreasing temperature"
   ]
  },
  {
   "cell_type": "code",
   "execution_count": 19,
   "id": "5b161334",
   "metadata": {},
   "outputs": [
    {
     "name": "stdout",
     "output_type": "stream",
     "text": [
      "305.5\n"
     ]
    }
   ],
   "source": [
    "print(tempcon.temperature_A)"
   ]
  }
 ],
 "metadata": {
  "kernelspec": {
   "display_name": "Python 3 (ipykernel)",
   "language": "python",
   "name": "python3"
  },
  "language_info": {
   "codemirror_mode": {
    "name": "ipython",
    "version": 3
   },
   "file_extension": ".py",
   "mimetype": "text/x-python",
   "name": "python",
   "nbconvert_exporter": "python",
   "pygments_lexer": "ipython3",
   "version": "3.7.12"
  }
 },
 "nbformat": 4,
 "nbformat_minor": 5
}
