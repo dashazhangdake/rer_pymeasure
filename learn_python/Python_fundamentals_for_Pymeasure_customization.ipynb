{
 "cells": [
  {
   "cell_type": "markdown",
   "id": "7b052771",
   "metadata": {},
   "source": [
    "Before attempting to tweak Pymeasure for a specific experiment, one should know a little bit about Python, including \"advanced topics\" like fundametntals for OOP.\n",
    "\n",
    "My **[notes](https://github.com/dashazhangdake/my_cs61a)** based on (the first half of) UCB CS61a S22 could be a reference for learning Python"
   ]
  },
  {
   "cell_type": "markdown",
   "id": "b996e112",
   "metadata": {},
   "source": [
    "## 1. WTH is ```@ATTR```?\n",
    "```@ATTR``` is Python decorator. \n",
    "**In Decorators, functions are taken as the argument into another function and then called inside the wrapper function.**\n",
    "\n",
    "**For Example**\n",
    "```python\n",
    "    @ATTR\n",
    "    def funct(...):\n",
    "        ...\n",
    "```\n",
    "which is equivalent to:\n",
    "```python \n",
    "    def funct(...):\n",
    "        ...\n",
    "    funct = ATTR(aFunc)\n",
    "```"
   ]
  },
  {
   "cell_type": "code",
   "execution_count": 19,
   "id": "4057d271",
   "metadata": {},
   "outputs": [
    {
     "name": "stdout",
     "output_type": "stream",
     "text": [
      "-> 3\n",
      "<- 9\n"
     ]
    },
    {
     "data": {
      "text/plain": [
       "9"
      ]
     },
     "execution_count": 19,
     "metadata": {},
     "output_type": "execute_result"
    }
   ],
   "source": [
    "def trace1(f):\n",
    "    def inside(x):\n",
    "        print(\"->\", x)\n",
    "        res = f(x)\n",
    "        print(\"<-\", res)\n",
    "        return res\n",
    "    return inside\n",
    "square = lambda x: x * x\n",
    "trace1(square)(3)"
   ]
  },
  {
   "cell_type": "code",
   "execution_count": 21,
   "id": "81a6878b",
   "metadata": {},
   "outputs": [
    {
     "name": "stdout",
     "output_type": "stream",
     "text": [
      "-> 3\n",
      "<- 9\n"
     ]
    },
    {
     "data": {
      "text/plain": [
       "9"
      ]
     },
     "execution_count": 21,
     "metadata": {},
     "output_type": "execute_result"
    }
   ],
   "source": [
    "@trace1\n",
    "def square(x):\n",
    "    return x * x\n",
    "square(3)"
   ]
  },
  {
   "cell_type": "markdown",
   "id": "4b65e1ad",
   "metadata": {},
   "source": [
    "### 1. a. Usage of ```@propery, @setter```\n",
    "Set the attributes of a class using ```ClassInstance.attr = value```\n",
    "\n",
    "**For example:** \n",
    "\n",
    "Using p1.x = value to change P.x"
   ]
  },
  {
   "cell_type": "code",
   "execution_count": 1,
   "id": "466acd6f",
   "metadata": {},
   "outputs": [],
   "source": [
    "class P:\n",
    "    def __init__(self, x):\n",
    "        self.x = x\n",
    "    @property\n",
    "    def x(self):\n",
    "        return self.__x\n",
    "    @x.setter\n",
    "    def x(self, x):\n",
    "        if x < 0:\n",
    "            self.__x = 0\n",
    "        elif x > 1000:\n",
    "            self.__x = 1000\n",
    "        else:\n",
    "            self.__x = x"
   ]
  },
  {
   "cell_type": "code",
   "execution_count": 2,
   "id": "b64cf70f",
   "metadata": {},
   "outputs": [
    {
     "data": {
      "text/plain": [
       "180"
      ]
     },
     "execution_count": 2,
     "metadata": {},
     "output_type": "execute_result"
    }
   ],
   "source": [
    "p1 = P(180)\n",
    "p1.x"
   ]
  },
  {
   "cell_type": "code",
   "execution_count": 3,
   "id": "5aa87a91",
   "metadata": {},
   "outputs": [
    {
     "data": {
      "text/plain": [
       "10"
      ]
     },
     "execution_count": 3,
     "metadata": {},
     "output_type": "execute_result"
    }
   ],
   "source": [
    "p1.x = 10\n",
    "p1.x"
   ]
  },
  {
   "cell_type": "code",
   "execution_count": 4,
   "id": "44d5b113",
   "metadata": {},
   "outputs": [
    {
     "data": {
      "text/plain": [
       "0"
      ]
     },
     "execution_count": 4,
     "metadata": {},
     "output_type": "execute_result"
    }
   ],
   "source": [
    "p1.x = -1\n",
    "p1.x"
   ]
  },
  {
   "cell_type": "code",
   "execution_count": 5,
   "id": "7cd5c3ac",
   "metadata": {},
   "outputs": [
    {
     "data": {
      "text/plain": [
       "1000"
      ]
     },
     "execution_count": 5,
     "metadata": {},
     "output_type": "execute_result"
    }
   ],
   "source": [
    "p1.x = 10000\n",
    "p1.x"
   ]
  }
 ],
 "metadata": {
  "kernelspec": {
   "display_name": "Python 3",
   "language": "python",
   "name": "python3"
  },
  "language_info": {
   "codemirror_mode": {
    "name": "ipython",
    "version": 3
   },
   "file_extension": ".py",
   "mimetype": "text/x-python",
   "name": "python",
   "nbconvert_exporter": "python",
   "pygments_lexer": "ipython3",
   "version": "3.7.11"
  }
 },
 "nbformat": 4,
 "nbformat_minor": 5
}
