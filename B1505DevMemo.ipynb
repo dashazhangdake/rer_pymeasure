{
 "cells": [
  {
   "cell_type": "markdown",
   "id": "01769952",
   "metadata": {},
   "source": [
    "# 1. Staircase Sweep Measurements, I/V\n",
    "## 1.1. Notes on examples from *Programming Guide pp-198*"
   ]
  },
  {
   "cell_type": "markdown",
   "id": "fe7af2ba",
   "metadata": {},
   "source": [
    "**Table1.** Staircase sweep measurements commands\n",
    "\n",
    "| Function | Command | Parameters | PymeasureMethod\n",
    "| --- | --- | --- | --- |\n",
    "| Enables channels | **CN** | ```[chnum ... [,chnum] ... ]``` | ```SMU.enable()``` |\n",
    "| Disable channels | **CL** | ```[chnum ... [,chnum] ... ]``` | ```SMU.disable()``` |\n",
    "| Set Filters ON/OFF | **```[FL]```** | ```mode[,chnum ... [,chnum] ... ``` | ```SMU.filter()``` |\n",
    "| Set series resistor ON/OFF | **```[SSR]```** | ```chnum,mode ``` | ```series_resistor``` |\n",
    "| Set integration Time | **```AV```** | ```number[,mode] ``` | ```adc_averaging()``` |\n",
    "| Set integration Time | **```AAD```** | ```chnum[,type] ``` | ```SMU.adc_type()``` |\n",
    "| Set integration Time | **```AIT```** | ```mode,mode[,N] ``` | ```adc_setup()``` |\n",
    "| Sets sweep source timing parameter | **```[WT]```** | ```hold,delay [,sdelay[,tdelay[,mdelay]]] ``` | ```sweep_timing()``` |\n",
    "| Sets auto abort function | **```[WM]```** | ```abort[,post] ``` | ```sweep_auto_abort()``` |\n",
    "| Set Voltage Sweep Source | **WV** | ```chnum,mode,range,start,stop, step[,comp[,Pcomp]]``` | ```SMU.staircase_sweep_source() mode: 'VOLTAGE'``` |\n",
    "| Set Current Sweep Source | **WI** | ```chnum,mode,range,start,stop, step[,comp[,Pcomp]]``` | ```SMU.staircase_sweep_source() mode: 'CURRENT'``` |\n",
    "| Set synchronous Sweep Source Voltage | **```[WSV]```** | ```chnum,range,start,stop [,comp[,Pcomp]] ``` | ```SMU.synchronous_sweep_source() mode: 'VOLTAGE'``` |\n",
    "| Set synchronous Sweep Source current | **```[WSI]```** | ```chnum,range,start,stop [,comp[,Pcomp]]``` | ```SMU.synchronous_sweep_source() mode: 'CURRENT'``` |\n",
    "| Forces constant voltage | **```DV, TDV```** | ```chnum,range,output [,comp[,polarity[,crange]]] ``` | ```SMU.force() mode: 'VOLTAGE'``` |\n",
    "| Forces constant current | **```DI, TDI```** | ```chnum,range,output [,comp[,polarity[,crange]]] ``` | ```SMU.force() mode: 'CURRENT'``` |\n",
    "| Sets voltage measurement range | **```[RV]```** | ```chnum,range ``` | ```meas_range_voltage``` |\n",
    "| Sets current measurement range | **```[RI]```** | ```chnum,range ``` | ```meas_range_current``` |\n",
    "| Sets current measurement range | **```[RM]```** | ```chnum,mode[,rate] ``` | ```SMU.meas_range_current_auto()``` |\n",
    "| Sets measurement mode | **```MM```** | ```2,chnum[,chnum ... [,chnum] ... ]``` | ```meas_mode()``` |\n",
    "| Sets SMU operation mode | **```[CMM]```** | ```chnum,mode ``` | ```SMU.meas_op_mode()``` |\n",
    "| Execute Measurement | **```XE```** | ```N/A ``` | ```send_trigger()``` |\n",
    "\n",
    "\n",
    "**Note**:\n",
    "* **a**. The ```WSV/WSI``` command must be entered after the ```WV/WI``` command."
   ]
  },
  {
   "cell_type": "markdown",
   "id": "d6417cdb",
   "metadata": {},
   "source": [
    "**Usage of commands not listed in Table1**\n",
    "\n",
    "| Function CMD | Command in this example | Parameters | Explaination \n",
    "| --- | --- | --- | --- |\n",
    "| ```FMT``` | ```FMT 5,1``` | ```FMT format[,mode]``` | **Mode** stands for data output mode, i.e, source data returned with measurement data|\n",
    "| ```TSC``` | ```TSC 1``` | ```0 or 1``` | Disable/enable timestamp function|\n",
    "| ```ERR``` | ```ERR? 1``` | ```0 or 1``` | **0:** Reads the content from the error queue and **clears** the queue, returns for error codes in the order of their occurrence  <br/> **1:** Reads from the head of error queue and removes the code from the queue. This return one error code|"
   ]
  },
  {
   "cell_type": "markdown",
   "id": "8af1a811",
   "metadata": {},
   "source": [
    "## 1.2. Convert Pymeasure-stock to fit b1505a\n",
    "\n",
    "**Stock B1500 base class structure is**:\n",
    "* L46 - L912: Skeleton class of B1500\n",
    "* L918 - L1362: SMU class\n",
    "* L1368 - L1572: Ranging classes\n",
    "\n",
    "* L1575 - L1696: Helpler classes for parameter capturing\n",
    "* L1703 - End: Query Learn class: parse instrument setting to human readable format"
   ]
  },
  {
   "cell_type": "markdown",
   "id": "5180e537",
   "metadata": {},
   "source": [
    "### 1.2.1. Code segments that we don't want to mess\n",
    "We are okay with most of the methods provided in the stock-version pymeasure b1500 class:\n",
    "* L167 to L232 should be compatiable with b1505a\n",
    "* L238 to L508 are about data formatting, no intention to mess with these for now (05/07)\n",
    "\n",
    "\n",
    "**EXCEPT FOR THE FOLLOWING:**"
   ]
  },
  {
   "cell_type": "markdown",
   "id": "ed04f169",
   "metadata": {},
   "source": [
    "### 1.2.2. Problems with stock-version Pymeasure \n",
    "#### a. SMU setups\n",
    "B1505a SMU module query differs from B1500:\n",
    "```python\n",
    "    module_names_b1500 = {\n",
    "        'B1525A': 'SPGU',\n",
    "        'B1517A': 'HRSMU',\n",
    "        'B1511A': 'MPSMU',\n",
    "        'B1511B': 'MPSMU',\n",
    "        'B1510A': 'HPSMU',\n",
    "        'B1514A': 'MCSMU',\n",
    "        'B1520A': 'MFCMU'\n",
    "    }\n",
    "```\n",
    "\n",
    "RER b1505a involves the following SMUs\n",
    "```python\n",
    "    0:('GNDU','GNDU+ADC') # ? Might not be a real SMU\n",
    "    1:('HPSMU','SMU1:HP') # B1510A \n",
    "    3:('HPSMU','SMU2:HP') # B1511B ? B1505A only have one HPSMU, I suppose it should be MPSMU\n",
    "    5:('MFCMU','CMU1:MF') # B1520A\n",
    "    6:('HCSMU','SMU3:HC') # B1512A\n",
    "    8:('HVSMU','SMU4:HV') # B1513A\n",
    "```\n",
    "\n",
    "That is, we may need to override ```b1500.query_modules()``` method because:\n",
    "* B1500 is equipped with ```SPGU and HRSMU```, but b1505a is NOT\n",
    "* RER B1505a uses ```HVSMU(8)``` and ```HCSMU(6)```, BUT b1500 NOT equipped with these SMUs\n",
    "\n",
    "#### b. ADC setups\n",
    "ADC\n",
    "\n",
    "\n",
    "\n",
    "**NOTE:** Legacy RER b1505a code could be inaccurate regarding the definitions of SMUs, though this issue might not affect the usage"
   ]
  }
 ],
 "metadata": {
  "kernelspec": {
   "display_name": "Python 3 (ipykernel)",
   "language": "python",
   "name": "python3"
  },
  "language_info": {
   "codemirror_mode": {
    "name": "ipython",
    "version": 3
   },
   "file_extension": ".py",
   "mimetype": "text/x-python",
   "name": "python",
   "nbconvert_exporter": "python",
   "pygments_lexer": "ipython3",
   "version": "3.7.12"
  }
 },
 "nbformat": 4,
 "nbformat_minor": 5
}
