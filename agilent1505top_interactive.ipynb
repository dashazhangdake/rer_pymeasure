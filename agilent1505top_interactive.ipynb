{
 "cells": [
  {
   "cell_type": "markdown",
   "id": "a9404eae",
   "metadata": {},
   "source": [
    "# Introduction to this \"tutorial\"\n",
    "\n",
    "This notebook is an interactive example for a \"simple\" **staircase sweep measurments experiment**, it can be loosely mapped to the Programming Example in pp-198 of B1500A mannual.\n",
    "\n",
    "Experimental configurations are:\n",
    "\n",
    "**Active SMUs: Terminals of MOSFET:**\n",
    "* SMU1 - **channel 1** - HPSMU: **Drain**  \n",
    "* SMU2 - **channel 3** - HPSMU: **Gate**\n",
    "* GND - channel xx - GNDU: **Source** \n",
    "    * (GNDU is not explicitly declared either in Pymeausure or Programming Manual, here we treat it as a **\"dont care\"**)\n",
    "\n",
    "**Staircase Sweep Setups:**\n",
    "* **Drain Voltage** \"sweep\" from **1v to 3v, with a step of 1v (nop1 = 3)**\n",
    "    * For each step of Drain Voltage sweep: **Gate Voltage sweep** from **0v to 3v, with a step of 0.33v (nop2 = 10)**\n",
    "    \n",
    "**Measurements:**\n",
    "We hope to measure: ```Vg, Ig, Vd, Id``` and we can measure all of these values. ```Ig, Id``` are meaningless for dummy runs without the *device under test*. **```Vg or Vd```** measurments are **consistent with expected values**. \n",
    "\n",
    "* However, ~~we haven't figured out how to measure Id and Vd simutaneously.~~ \n",
    "    * A possible workaround is to measure ```Id```, as we already know the values of ```Vd```. \n",
    "    * It turns out that this workaround is the \"correct way\" used in Programming Manual. \n",
    "\n",
    "* In this interactivate example, **A spreadsheet of ```Vg, Ig, Id``` will be generated** when the experiment ends. \n",
    "\n",
    "\n",
    "**TODOs:**\n",
    "* ~~Figure out how to extract the measurements of ```Vd and Id``` simutaneously.~~ Unnecessary"
   ]
  },
  {
   "cell_type": "markdown",
   "id": "152514ac",
   "metadata": {},
   "source": [
    "## 1. Setup environment"
   ]
  },
  {
   "cell_type": "code",
   "execution_count": 1,
   "id": "2b4d655d",
   "metadata": {},
   "outputs": [],
   "source": [
    "import pymeasure\n",
    "from pymeasure.adapters import VXI11Adapter\n",
    "from pymeasure.adapters import VISAAdapter\n",
    "from pymeasure.instruments import Instrument\n",
    "# from pymeasure.instruments.agilent import AgilentB1500\n",
    "from SourceCodes.agilent1505 import b1505a"
   ]
  },
  {
   "cell_type": "markdown",
   "id": "1d412b1c",
   "metadata": {},
   "source": [
    "## 2. Connect Instrument via adapter"
   ]
  },
  {
   "cell_type": "code",
   "execution_count": 2,
   "id": "066be63c",
   "metadata": {},
   "outputs": [
    {
     "name": "stderr",
     "output_type": "stream",
     "text": [
      "/Users/haoqiu/opt/miniconda3/envs/tfenv/lib/python3.7/site-packages/gpib_ctypes/gpib/gpib.py:54: UserWarning: GPIB library not found. Please manually load it using _load_lib(filename). All GPIB functions will raise OSError until the library is manually loaded.\n",
      "  warnings.warn(message)\n"
     ]
    }
   ],
   "source": [
    "adapter = VXI11Adapter(\"TCPIP::10.8.128.194::gpib0,17::INSTR\")\n",
    "\n",
    "# Though VISA adapter throws warning messages. It works fine for this experiment\n",
    "# adapter = VISAAdapter(\"TCPIP::10.8.128.194::gpib0,17::INSTR\")\n",
    "\n",
    "instr = b1505a(adapter, timeout='None')\n",
    "instr.reset()"
   ]
  },
  {
   "cell_type": "markdown",
   "id": "324b8da6",
   "metadata": {},
   "source": [
    "**Example from programmnig manual pp-199: L1-31**\n",
    "<img src=\"jupyter_resources/sweepCodeExample1_1to31.png\" alt=\"Drawing\" style=\"width: 800px;\"/>"
   ]
  },
  {
   "cell_type": "markdown",
   "id": "a0101019",
   "metadata": {},
   "source": [
    "Query SMUs being used"
   ]
  },
  {
   "cell_type": "code",
   "execution_count": 3,
   "id": "29c22247",
   "metadata": {},
   "outputs": [
    {
     "name": "stdout",
     "output_type": "stream",
     "text": [
      "SMUs used: {1: 'HPSMU', 3: 'HPSMU', 5: 'MFCMU', 6: 'HCSMU', 8: 'HVSMU'}\n"
     ]
    }
   ],
   "source": [
    "res = instr.query_modules()\n",
    "print(f'SMUs used: {res}')"
   ]
  },
  {
   "cell_type": "markdown",
   "id": "21eebe93",
   "metadata": {},
   "source": [
    "**Example from programmnig manual pp-199: L32-35**\n",
    "\n",
    "Sets the data output format, time stamp data output mode, SMU filter, and averaging.\n",
    "\n",
    "<img src=\"jupyter_resources/sweepCodeExample1_32to35.png\" alt=\"Drawing\" style=\"width: 900px;\"/>"
   ]
  },
  {
   "cell_type": "markdown",
   "id": "e469151a",
   "metadata": {},
   "source": [
    "**L32:** ```FMT``` mapped by ```instr.data_format()``` method.\n",
    "\n",
    "* ```data_format(output_format, mode=0)``` Specifies data output format. Check Documentation for parameters. Should be called once per session to set the data format for interpreting the measurement values read from the instrument.\n",
    "    * Currently implemented are format: 1, 11, and 21\n",
    "* **Parameters**:\n",
    "    * ```output_format (str)``` – Output format string, e.g. FMT21, seems that int may also work\n",
    "    * ```mode (int, optional)``` – Data output mode, defaults to 0 (only measurement data is returned)\n",
    "\n",
    "\n",
    "**L33:** ```TSC``` mapped by ```instr.time_stamp```\n",
    "\n",
    "\n",
    "**L34:** ```FL``` mapped by ```smu.filter```\n",
    "\n",
    "\n",
    "**L35:** ```AV``` mapped by ```adc_averaging```: Check pp-365 for details of ```AV``` command\n",
    "* ```adc_averaging(number, mode='Auto')``` Set number of averaging samples of the HSADC. (AV)\n",
    "* **Parameters**:\n",
    "    * ```number (int)``` - Number of averages\n",
    "    * ```mode (AutoManual, optional)``` – Mode ('Auto','Manual'), defaults to ‘Auto’"
   ]
  },
  {
   "cell_type": "code",
   "execution_count": 4,
   "id": "acd888d3",
   "metadata": {},
   "outputs": [],
   "source": [
    "instr.time_stamp = False # Disable Timestamp\n",
    "instr.set_filter() \n",
    "instr.adc_averaging(10) # Set number of averaging samples of the HSADC"
   ]
  },
  {
   "cell_type": "markdown",
   "id": "75c36bf9",
   "metadata": {},
   "source": [
    "## 3. Initialize SMUs\n",
    "Let's stick with the terminal mapping between SMU and MOSFET defined in RER legacy codes: \n",
    "* HPSMU1<==>Channel(1) maps to **Drain**\n",
    "* HPSMU2<==>Channe3(3) maps to **Gate**\n",
    "* Source is set to GND (0) maps to **Source**\n",
    "\n",
    "enable all smus, and query smunames (\"smui\") with corresponding channels"
   ]
  },
  {
   "cell_type": "code",
   "execution_count": 5,
   "id": "294c5844",
   "metadata": {},
   "outputs": [],
   "source": [
    "instr.initialize_all_smus()"
   ]
  },
  {
   "cell_type": "code",
   "execution_count": 6,
   "id": "e5c45989",
   "metadata": {},
   "outputs": [
    {
     "name": "stdout",
     "output_type": "stream",
     "text": [
      "smu1 stands for channel 1\n",
      "smu2 stands for channel 3\n",
      "smu3 stands for channel 6\n",
      "smu4 stands for channel 8\n"
     ]
    }
   ],
   "source": [
    "for i, smu in enumerate(instr.smu_references, start=1):\n",
    "    smu.enable() # enable SMUs\n",
    "    print(f'smu{i} stands for channel {smu.channel}')\n",
    "instr.data_format(21, mode=1)"
   ]
  },
  {
   "cell_type": "code",
   "execution_count": 7,
   "id": "95590122",
   "metadata": {},
   "outputs": [],
   "source": [
    "# print(instr.smu_references)\n",
    "# print(instr.smu1)\n",
    "instr.smu3.disable() # Disable SMUs we dont use\n",
    "instr.smu4.disable() # Disable SMUs we dont use"
   ]
  },
  {
   "cell_type": "code",
   "execution_count": 8,
   "id": "95b93ccd",
   "metadata": {},
   "outputs": [],
   "source": [
    "# set the alias of smus\n",
    "drain = instr.smu1\n",
    "gate = instr.smu2 \n",
    "source = instr.GNDU  "
   ]
  },
  {
   "cell_type": "markdown",
   "id": "74c9143f",
   "metadata": {},
   "source": [
    "**Example from programmnig manual pp-199: L35-37**\n",
    "\n",
    "Applies voltage to device\n",
    "\n",
    "<img src=\"jupyter_resources/sweepCodeExample1_35to37.png\" alt=\"Drawing\" style=\"width: 900px;\"/>\n",
    "In this case, we dont have the substrate, just try to setup the drain, though it might not be necessary"
   ]
  },
  {
   "cell_type": "markdown",
   "id": "92277f96",
   "metadata": {},
   "source": [
    "**L35**: ```DV``` mapped by ```force(source_type, source_range, output, comp='', comp_polarity='', comp_range='')```"
   ]
  },
  {
   "cell_type": "code",
   "execution_count": 9,
   "id": "67dea325",
   "metadata": {},
   "outputs": [],
   "source": [
    "# source.force('VOLTAGE', 0, vd, comp=0.01) # Force drain to 0"
   ]
  },
  {
   "cell_type": "markdown",
   "id": "1b0afbd1",
   "metadata": {},
   "source": [
    "## 4. Setup measurements"
   ]
  },
  {
   "cell_type": "markdown",
   "id": "6bf5a2f4",
   "metadata": {},
   "source": [
    "**Example from programmnig manual pp-200: L38-40**\n",
    "\n",
    "Sets the measurement mode, channel measurement mode, and measurment range\n",
    "\n",
    "<img src=\"jupyter_resources/sweepCodeExample1_38to40.png\" alt=\"Drawing\" style=\"width: 900px;\"/>"
   ]
  },
  {
   "cell_type": "markdown",
   "id": "64108e96",
   "metadata": {},
   "source": [
    "**L38:** ```MM``` mapped by ```meas_mode(mode, *args)```\n",
    "\n",
    "* Set Measurement mode of channels. Measurements will be taken in the same order as the SMU references are passed. (MM)\n",
    "* **Parameters**: \n",
    "    * mode(MeasMode)-\n",
    "        * SPOT\n",
    "        * STAIRCASE_SWEEP\n",
    "        * SAMPLING\n",
    "    * args(SMU) - SMU references\n",
    "\n",
    "\n",
    "**L39:** ```CMM``` mapped by ```meas_op_mode```\n",
    "* **Usage:** ```smu.meas_op_mode='MODE'```    \n",
    "* **MODE list**: \n",
    "    * COMPLIANCE_SIDE= 0\n",
    "    * CURRENT= 1\n",
    "    * VOLTAGE= 2\n",
    "    * FORCE_SIDE= 3\n",
    "    * COMPLIANCE_AND_FORCE_SIDE= 4\n",
    "    \n",
    "**L40:** ```RI``` mapped by ```meas_range_current```\n",
    "* **Usage:**```smu.meas_range_current='RANGE```\n",
    "    * ```Range``` was defined in ```rerSMUCurrentRanging```"
   ]
  },
  {
   "cell_type": "code",
   "execution_count": 10,
   "id": "ec2ca880",
   "metadata": {},
   "outputs": [
    {
     "name": "stdout",
     "output_type": "stream",
     "text": [
      "arugment:  (<SourceCodes.agilent1505.rerSMU object at 0x7f9806b47e50>, <SourceCodes.agilent1505.rerSMU object at 0x7f9806adbed0>, <SourceCodes.agilent1505.rerSMU object at 0x7f9806b64190>, <SourceCodes.agilent1505.rerSMU object at 0x7f9806b64d50>)\n",
      "channel 1\n",
      "excecuted: MM 2, 1\n",
      "channel 3\n",
      "excecuted: MM 2, 1, 3\n",
      "channel 6\n",
      "channel 8\n"
     ]
    }
   ],
   "source": [
    "instr.meas_mode('STAIRCASE_SWEEP', *instr.smu_references, channels=[3, 1]) # MM 2,\n",
    "# gate.meas_op_mode=True\n",
    "# instr.meas_mode('SAMPLING', *instr.smu_references, channels=[3])\n",
    "# drain.meas_op_mode = 'CURRENT'\n",
    "# drain.meas_range_current = 0"
   ]
  },
  {
   "cell_type": "code",
   "execution_count": 11,
   "id": "b96c2b7b",
   "metadata": {},
   "outputs": [],
   "source": [
    "# drain.meas_op_mode = 'CURRENT'\n",
    "# drain.meas_range_current = 0\n",
    "# gate.meas_op_mode = 'VOLTAGE'\n",
    "# gate.meas_range_voltage = 0"
   ]
  },
  {
   "cell_type": "markdown",
   "id": "4dbad06e",
   "metadata": {},
   "source": [
    "**Example from programmnig manual pp-200: L41-45**\n",
    "\n",
    "Sets the timing parameters and sweep mode of the staircase sweep source. And checks\n",
    "if an error occurred. If an error is detected, forces 0 V and goes to Check_err.\n",
    "\n",
    "<img src=\"jupyter_resources/sweepCodeExample1_41to45.png\" alt=\"Drawing\" style=\"width: 900px;\"/>"
   ]
  },
  {
   "cell_type": "markdown",
   "id": "dbec725f",
   "metadata": {},
   "source": [
    "**L41**: ```WT``` mapped by ```sweep_timing()```\n",
    "\n",
    "* ```sweep_timing(hold, delay, step_delay=0, step_trigger_delay=0, measurement_trigger_delay=0)``` Sets Hold Time, Delay Time and Step Delay Time for staircase or multi channel sweep measurement. (WT) If not set, all parameters are 0.\n",
    "\n",
    "* **Parameters**: \n",
    "    * ```hold (float)``` - Hold Time\n",
    "    * ```delay (float)``` - Delay Time\n",
    "    * ```step_delay (float, optional)``` – Step delay time, defaults to 0\n",
    "    * ```step_trigger_delay (float, optional)``` – Trigger delay time, defaults to 0\n",
    "    * ```measurement_trigger_delay (float, optional)``` – Measurement trigger delay time, defaults to 0\n",
    "    \n",
    "**L42**: ```WM``` mapped by ```sweep_auto_abort()```\n",
    "* **Usage:** ```sweep_auto_abort(abort, post='START')``` \n",
    "    * Enable by pass ```True``` to ```abort``` (True stands for 2)\n",
    "    * post values: ```START=1```, ```STOP=2``` \n",
    "\n",
    "**L43**: ```ERR``` should mapped by ```b1500.check_errors()```"
   ]
  },
  {
   "cell_type": "code",
   "execution_count": 12,
   "id": "1a34dae3",
   "metadata": {},
   "outputs": [],
   "source": [
    "instr.sweep_timing(0, 0, step_delay=0) # All default values\n",
    "instr.sweep_auto_abort(True, post='START') # WM 2,1\n",
    "instr.check_errors()"
   ]
  },
  {
   "cell_type": "markdown",
   "id": "104e1539",
   "metadata": {},
   "source": [
    "**Example from programmnig manual pp-200: L46-66**\n",
    "\n",
    "Sets the sweep source, applies voltage to device, resets time stamp, and performs the\n",
    "staircase sweep measurement. And stores the returned data into the mret string\n",
    "variable. Finally, stores the measured data into the data array.\n",
    "\n",
    "<img src=\"jupyter_resources/sweepCodeExample1_46to66.png\" alt=\"Drawing\" style=\"width: 900px;\"/>"
   ]
  },
  {
   "cell_type": "markdown",
   "id": "0df7cf3e",
   "metadata": {},
   "source": [
    "**L46**: ```WV``` mapped by ```staircase_sweep_source(source_type, mode, source_range, start, stop, steps, comp, Pcomp='')```, with ```mode='Voltage'```\n",
    "\n",
    "Specifies Staircase Sweep Source (Current or Voltage) and its parameters. (WV or WI)\n",
    "\n",
    "* **Parameters:** \n",
    "    * ```source_type (str)``` – Source type ('Voltage','Current')\n",
    "    * ```mode (SweepMode)``` – Sweep mode\n",
    "        * LINEAR_SINGLE=1\n",
    "        * LOG_SINGLE=2\n",
    "        * LINEAR_DOUBLE=3\n",
    "        * LOG_DOUBLE=4\n",
    "    * ```source_range (int)``` – Source range index\n",
    "    * ```start (float)``` – Sweep start value\n",
    "    * ```stop (float)``` – Sweep stop value\n",
    "    * ```Steps (int)``` – Number of sweep steps\n",
    "    * ```comp (float)``` – Compliance value\n",
    "    * ```Pcomp (float, optional)``` – Power compliance, defaults to not set\n",
    "    \n",
    "**L48**: ```DV``` mapped by ```force(source_type, source_range, output, comp='', comp_polarity='', comp_range='')```, with ```mode='Voltage'```\n",
    "\n",
    "Applies DC Current or Voltage from SMU immediately. (DI, DV)\n",
    "\n",
    "* **Parameters:** \n",
    "    * ```source_type (str)``` – Source type ('Voltage','Current')\n",
    "    * ```source_range (int)``` – Source range index\n",
    "    * ```output``` – Source output value in A or V\n",
    "    * ```comp (float, optional)``` – Compliance value, defaults to previous setting\n",
    "    * ```comp_polarity (CompliancePolarity)``` – Compliance polairty, defaults to auto\n",
    "    * ```comp_range (int or str, optional)``` – Compliance ranging type, defaults to auto\n",
    "    \n",
    "    \n",
    "**L49**: ```TSR``` mapped by ```clear_timer()```\n",
    "\n",
    "**L50**: ```XE``` mapped by ```send_trigger()```\n",
    "\n",
    "**L51**: ```OPC``` mapped by ```check_idle()```\n",
    "\n",
    "**L52**: ```ERR``` mapped by ```check_errors()```"
   ]
  },
  {
   "cell_type": "code",
   "execution_count": 13,
   "id": "5f78c846",
   "metadata": {},
   "outputs": [],
   "source": [
    "nop = 10\n",
    "nopd = 3"
   ]
  },
  {
   "cell_type": "code",
   "execution_count": 14,
   "id": "facd763d",
   "metadata": {},
   "outputs": [],
   "source": [
    "\n",
    "# drain.staircase_sweep_source('VOLTAGE','LINEAR_SINGLE','Auto Ranging',0,3,nopd,0.001)\n",
    "# drain.meas_op_mode = 'VOLTAGE'\n",
    "# drain.meas_range_voltage = 0\n",
    "# drain.meas_op_mode = 'CURRENT'\n",
    "# drain.meas_range_current = 0\n",
    "# drain.force('VOLTAGE', 0, 3, comp=0.01) # Set gate to 3v, autoranging, with a comp of 0.01"
   ]
  },
  {
   "cell_type": "code",
   "execution_count": 15,
   "id": "fb54a87a",
   "metadata": {},
   "outputs": [],
   "source": [
    "gate.staircase_sweep_source('VOLTAGE','LINEAR_SINGLE','Auto Ranging',0,3,nop,0.001)"
   ]
  },
  {
   "cell_type": "markdown",
   "id": "cb5e91eb",
   "metadata": {},
   "source": [
    "## 5. Retreive Data\n",
    "From this point, we fully rely on the data reader by Pymeasure"
   ]
  },
  {
   "cell_type": "code",
   "execution_count": 3,
   "id": "9bcde630",
   "metadata": {},
   "outputs": [],
   "source": [
    "meas = []\n",
    "vd = 1\n",
    "v_drain = []\n",
    "for i in range(nopd):\n",
    "    gate.staircase_sweep_source('VOLTAGE','LINEAR_SINGLE','Auto Ranging',0,3,nop,0.001)\n",
    "    drain.force('VOLTAGE', 0, vd, comp=0.01) # Force Vd to a vd, vd adds by one in each iteration\n",
    "    \n",
    "    vd_paddling = [vd] * nop # An awkard way to get vd, this is the approach applied in pp-200 in programming manual\n",
    "    v_drain += vd_paddling\n",
    "    \n",
    "    instr.check_errors()\n",
    "    instr.clear_buffer()\n",
    "    instr.clear_timer()\n",
    "    instr.send_trigger()\n",
    "    data = instr.read_channels()\n",
    "    meas.append(data)\n",
    "    vd = vd + 1"
   ]
  },
  {
   "cell_type": "code",
   "execution_count": 21,
   "id": "4a41b7ac",
   "metadata": {},
   "outputs": [],
   "source": [
    "v_gate = []\n",
    "i_drain = []\n",
    "i_gate = []\n",
    "\n",
    "smu_dict = {\n",
    "    'drain': 'SMU1',\n",
    "    'gate': 'SMU2'\n",
    "}"
   ]
  },
  {
   "cell_type": "code",
   "execution_count": 22,
   "id": "afa9f52c",
   "metadata": {},
   "outputs": [
    {
     "name": "stdout",
     "output_type": "stream",
     "text": [
      "[0.0, 0.333, 0.667, 1.0, 1.333, 1.667, 2.0, 2.333, 2.667, 3.0]\n",
      "[6.5e-13, 5e-14, -3e-13, -3e-13, -5e-14, 4.5e-13, 6.5e-13, 4e-13, -5e-14, -3e-13]\n",
      "[]\n",
      "[5e-14, -1e-13, -1.5e-13, 1e-13, 1e-13, -1.5e-13, -1e-13, -5e-14, -5e-14, -5e-14]\n"
     ]
    }
   ],
   "source": [
    "for mea in meas:\n",
    "    for ele in mea:\n",
    "    #     print(ele)\n",
    "        if ele[1] == smu_dict['drain'] and 'Voltage' in ele[2]:\n",
    "            v_drain.append(ele[3])\n",
    "        if ele[1] == smu_dict['drain'] and 'Current' in ele[2]:\n",
    "            i_drain.append(ele[3])\n",
    "        if ele[1] == smu_dict['gate'] and 'Current' in ele[2]:\n",
    "            i_gate.append(ele[3])\n",
    "        if ele[1] == smu_dict['gate'] and 'Voltage' in ele[2]:\n",
    "            v_gate.append(ele[3])\n",
    "\n",
    "print(v_gate)\n",
    "print(i_gate)\n",
    "print(v_drain)\n",
    "print(i_drain)\n"
   ]
  },
  {
   "cell_type": "code",
   "execution_count": 23,
   "id": "e53595e9",
   "metadata": {},
   "outputs": [
    {
     "name": "stderr",
     "output_type": "stream",
     "text": [
      "/Users/haoqiu/opt/miniconda3/envs/tfenv/lib/python3.7/site-packages/ipykernel_launcher.py:4: VisibleDeprecationWarning: Creating an ndarray from ragged nested sequences (which is a list-or-tuple of lists-or-tuples-or ndarrays with different lengths or shapes) is deprecated. If you meant to do this, you must specify 'dtype=object' when creating the ndarray.\n",
      "  after removing the cwd from sys.path.\n"
     ]
    },
    {
     "ename": "ValueError",
     "evalue": "3 columns passed, passed data had 10 columns",
     "output_type": "error",
     "traceback": [
      "\u001b[0;31m---------------------------------------------------------------------------\u001b[0m",
      "\u001b[0;31mAssertionError\u001b[0m                            Traceback (most recent call last)",
      "\u001b[0;32m~/opt/miniconda3/envs/tfenv/lib/python3.7/site-packages/pandas/core/internals/construction.py\u001b[0m in \u001b[0;36m_finalize_columns_and_data\u001b[0;34m(content, columns, dtype)\u001b[0m\n\u001b[1;32m    905\u001b[0m     \u001b[0;32mtry\u001b[0m\u001b[0;34m:\u001b[0m\u001b[0;34m\u001b[0m\u001b[0;34m\u001b[0m\u001b[0m\n\u001b[0;32m--> 906\u001b[0;31m         \u001b[0mcolumns\u001b[0m \u001b[0;34m=\u001b[0m \u001b[0m_validate_or_indexify_columns\u001b[0m\u001b[0;34m(\u001b[0m\u001b[0mcontents\u001b[0m\u001b[0;34m,\u001b[0m \u001b[0mcolumns\u001b[0m\u001b[0;34m)\u001b[0m\u001b[0;34m\u001b[0m\u001b[0;34m\u001b[0m\u001b[0m\n\u001b[0m\u001b[1;32m    907\u001b[0m     \u001b[0;32mexcept\u001b[0m \u001b[0mAssertionError\u001b[0m \u001b[0;32mas\u001b[0m \u001b[0merr\u001b[0m\u001b[0;34m:\u001b[0m\u001b[0;34m\u001b[0m\u001b[0;34m\u001b[0m\u001b[0m\n",
      "\u001b[0;32m~/opt/miniconda3/envs/tfenv/lib/python3.7/site-packages/pandas/core/internals/construction.py\u001b[0m in \u001b[0;36m_validate_or_indexify_columns\u001b[0;34m(content, columns)\u001b[0m\n\u001b[1;32m    954\u001b[0m             raise AssertionError(\n\u001b[0;32m--> 955\u001b[0;31m                 \u001b[0;34mf\"{len(columns)} columns passed, passed data had \"\u001b[0m\u001b[0;34m\u001b[0m\u001b[0;34m\u001b[0m\u001b[0m\n\u001b[0m\u001b[1;32m    956\u001b[0m                 \u001b[0;34mf\"{len(content)} columns\"\u001b[0m\u001b[0;34m\u001b[0m\u001b[0;34m\u001b[0m\u001b[0m\n",
      "\u001b[0;31mAssertionError\u001b[0m: 3 columns passed, passed data had 10 columns",
      "\nThe above exception was the direct cause of the following exception:\n",
      "\u001b[0;31mValueError\u001b[0m                                Traceback (most recent call last)",
      "\u001b[0;32m/var/folders/dh/6kmlgl8n02s7_k496_fp_9vc0000gn/T/ipykernel_5267/1835579578.py\u001b[0m in \u001b[0;36m<module>\u001b[0;34m\u001b[0m\n\u001b[1;32m      3\u001b[0m \u001b[0;31m# aggregated_data = np.array([v_gate, v_drain, i_drain, i_gate]).T.tolist()\u001b[0m\u001b[0;34m\u001b[0m\u001b[0;34m\u001b[0m\u001b[0;34m\u001b[0m\u001b[0m\n\u001b[1;32m      4\u001b[0m \u001b[0maggregated_data\u001b[0m \u001b[0;34m=\u001b[0m \u001b[0mnp\u001b[0m\u001b[0;34m.\u001b[0m\u001b[0marray\u001b[0m\u001b[0;34m(\u001b[0m\u001b[0;34m[\u001b[0m\u001b[0mv_gate\u001b[0m\u001b[0;34m,\u001b[0m \u001b[0mv_drain\u001b[0m\u001b[0;34m,\u001b[0m \u001b[0mi_gate\u001b[0m\u001b[0;34m]\u001b[0m\u001b[0;34m)\u001b[0m\u001b[0;34m.\u001b[0m\u001b[0mT\u001b[0m\u001b[0;34m.\u001b[0m\u001b[0mtolist\u001b[0m\u001b[0;34m(\u001b[0m\u001b[0;34m)\u001b[0m\u001b[0;34m\u001b[0m\u001b[0;34m\u001b[0m\u001b[0m\n\u001b[0;32m----> 5\u001b[0;31m \u001b[0mres\u001b[0m \u001b[0;34m=\u001b[0m \u001b[0mpd\u001b[0m\u001b[0;34m.\u001b[0m\u001b[0mDataFrame\u001b[0m\u001b[0;34m(\u001b[0m\u001b[0maggregated_data\u001b[0m\u001b[0;34m,\u001b[0m \u001b[0mcolumns\u001b[0m\u001b[0;34m=\u001b[0m\u001b[0;34m[\u001b[0m\u001b[0;34m'vg'\u001b[0m\u001b[0;34m,\u001b[0m \u001b[0;34m'vd'\u001b[0m \u001b[0;34m,\u001b[0m \u001b[0;34m'ig'\u001b[0m\u001b[0;34m]\u001b[0m\u001b[0;34m)\u001b[0m\u001b[0;34m\u001b[0m\u001b[0;34m\u001b[0m\u001b[0m\n\u001b[0m",
      "\u001b[0;32m~/opt/miniconda3/envs/tfenv/lib/python3.7/site-packages/pandas/core/frame.py\u001b[0m in \u001b[0;36m__init__\u001b[0;34m(self, data, index, columns, dtype, copy)\u001b[0m\n\u001b[1;32m    698\u001b[0m                         \u001b[0mcolumns\u001b[0m\u001b[0;34m,\u001b[0m\u001b[0;34m\u001b[0m\u001b[0;34m\u001b[0m\u001b[0m\n\u001b[1;32m    699\u001b[0m                         \u001b[0mindex\u001b[0m\u001b[0;34m,\u001b[0m  \u001b[0;31m# type: ignore[arg-type]\u001b[0m\u001b[0;34m\u001b[0m\u001b[0;34m\u001b[0m\u001b[0m\n\u001b[0;32m--> 700\u001b[0;31m                         \u001b[0mdtype\u001b[0m\u001b[0;34m,\u001b[0m\u001b[0;34m\u001b[0m\u001b[0;34m\u001b[0m\u001b[0m\n\u001b[0m\u001b[1;32m    701\u001b[0m                     )\n\u001b[1;32m    702\u001b[0m                     mgr = arrays_to_mgr(\n",
      "\u001b[0;32m~/opt/miniconda3/envs/tfenv/lib/python3.7/site-packages/pandas/core/internals/construction.py\u001b[0m in \u001b[0;36mnested_data_to_arrays\u001b[0;34m(data, columns, index, dtype)\u001b[0m\n\u001b[1;32m    481\u001b[0m         \u001b[0mcolumns\u001b[0m \u001b[0;34m=\u001b[0m \u001b[0mensure_index\u001b[0m\u001b[0;34m(\u001b[0m\u001b[0mdata\u001b[0m\u001b[0;34m[\u001b[0m\u001b[0;36m0\u001b[0m\u001b[0;34m]\u001b[0m\u001b[0;34m.\u001b[0m\u001b[0m_fields\u001b[0m\u001b[0;34m)\u001b[0m\u001b[0;34m\u001b[0m\u001b[0;34m\u001b[0m\u001b[0m\n\u001b[1;32m    482\u001b[0m \u001b[0;34m\u001b[0m\u001b[0m\n\u001b[0;32m--> 483\u001b[0;31m     \u001b[0marrays\u001b[0m\u001b[0;34m,\u001b[0m \u001b[0mcolumns\u001b[0m \u001b[0;34m=\u001b[0m \u001b[0mto_arrays\u001b[0m\u001b[0;34m(\u001b[0m\u001b[0mdata\u001b[0m\u001b[0;34m,\u001b[0m \u001b[0mcolumns\u001b[0m\u001b[0;34m,\u001b[0m \u001b[0mdtype\u001b[0m\u001b[0;34m=\u001b[0m\u001b[0mdtype\u001b[0m\u001b[0;34m)\u001b[0m\u001b[0;34m\u001b[0m\u001b[0;34m\u001b[0m\u001b[0m\n\u001b[0m\u001b[1;32m    484\u001b[0m     \u001b[0mcolumns\u001b[0m \u001b[0;34m=\u001b[0m \u001b[0mensure_index\u001b[0m\u001b[0;34m(\u001b[0m\u001b[0mcolumns\u001b[0m\u001b[0;34m)\u001b[0m\u001b[0;34m\u001b[0m\u001b[0;34m\u001b[0m\u001b[0m\n\u001b[1;32m    485\u001b[0m \u001b[0;34m\u001b[0m\u001b[0m\n",
      "\u001b[0;32m~/opt/miniconda3/envs/tfenv/lib/python3.7/site-packages/pandas/core/internals/construction.py\u001b[0m in \u001b[0;36mto_arrays\u001b[0;34m(data, columns, dtype)\u001b[0m\n\u001b[1;32m    805\u001b[0m         \u001b[0marr\u001b[0m \u001b[0;34m=\u001b[0m \u001b[0m_list_to_arrays\u001b[0m\u001b[0;34m(\u001b[0m\u001b[0mdata\u001b[0m\u001b[0;34m)\u001b[0m\u001b[0;34m\u001b[0m\u001b[0;34m\u001b[0m\u001b[0m\n\u001b[1;32m    806\u001b[0m \u001b[0;34m\u001b[0m\u001b[0m\n\u001b[0;32m--> 807\u001b[0;31m     \u001b[0mcontent\u001b[0m\u001b[0;34m,\u001b[0m \u001b[0mcolumns\u001b[0m \u001b[0;34m=\u001b[0m \u001b[0m_finalize_columns_and_data\u001b[0m\u001b[0;34m(\u001b[0m\u001b[0marr\u001b[0m\u001b[0;34m,\u001b[0m \u001b[0mcolumns\u001b[0m\u001b[0;34m,\u001b[0m \u001b[0mdtype\u001b[0m\u001b[0;34m)\u001b[0m\u001b[0;34m\u001b[0m\u001b[0;34m\u001b[0m\u001b[0m\n\u001b[0m\u001b[1;32m    808\u001b[0m     \u001b[0;32mreturn\u001b[0m \u001b[0mcontent\u001b[0m\u001b[0;34m,\u001b[0m \u001b[0mcolumns\u001b[0m\u001b[0;34m\u001b[0m\u001b[0;34m\u001b[0m\u001b[0m\n\u001b[1;32m    809\u001b[0m \u001b[0;34m\u001b[0m\u001b[0m\n",
      "\u001b[0;32m~/opt/miniconda3/envs/tfenv/lib/python3.7/site-packages/pandas/core/internals/construction.py\u001b[0m in \u001b[0;36m_finalize_columns_and_data\u001b[0;34m(content, columns, dtype)\u001b[0m\n\u001b[1;32m    907\u001b[0m     \u001b[0;32mexcept\u001b[0m \u001b[0mAssertionError\u001b[0m \u001b[0;32mas\u001b[0m \u001b[0merr\u001b[0m\u001b[0;34m:\u001b[0m\u001b[0;34m\u001b[0m\u001b[0;34m\u001b[0m\u001b[0m\n\u001b[1;32m    908\u001b[0m         \u001b[0;31m# GH#26429 do not raise user-facing AssertionError\u001b[0m\u001b[0;34m\u001b[0m\u001b[0;34m\u001b[0m\u001b[0;34m\u001b[0m\u001b[0m\n\u001b[0;32m--> 909\u001b[0;31m         \u001b[0;32mraise\u001b[0m \u001b[0mValueError\u001b[0m\u001b[0;34m(\u001b[0m\u001b[0merr\u001b[0m\u001b[0;34m)\u001b[0m \u001b[0;32mfrom\u001b[0m \u001b[0merr\u001b[0m\u001b[0;34m\u001b[0m\u001b[0;34m\u001b[0m\u001b[0m\n\u001b[0m\u001b[1;32m    910\u001b[0m \u001b[0;34m\u001b[0m\u001b[0m\n\u001b[1;32m    911\u001b[0m     \u001b[0;32mif\u001b[0m \u001b[0mlen\u001b[0m\u001b[0;34m(\u001b[0m\u001b[0mcontents\u001b[0m\u001b[0;34m)\u001b[0m \u001b[0;32mand\u001b[0m \u001b[0mcontents\u001b[0m\u001b[0;34m[\u001b[0m\u001b[0;36m0\u001b[0m\u001b[0;34m]\u001b[0m\u001b[0;34m.\u001b[0m\u001b[0mdtype\u001b[0m \u001b[0;34m==\u001b[0m \u001b[0mnp\u001b[0m\u001b[0;34m.\u001b[0m\u001b[0mobject_\u001b[0m\u001b[0;34m:\u001b[0m\u001b[0;34m\u001b[0m\u001b[0;34m\u001b[0m\u001b[0m\n",
      "\u001b[0;31mValueError\u001b[0m: 3 columns passed, passed data had 10 columns"
     ]
    }
   ],
   "source": [
    "import pandas as pd\n",
    "import numpy as np\n",
    "# aggregated_data = np.array([v_gate, v_drain, i_drain, i_gate]).T.tolist()\n",
    "aggregated_data = np.array([v_gate, v_drain, i_gate]).T.tolist()\n",
    "res = pd.DataFrame(aggregated_data, columns=['vg', 'vd' , 'ig'])"
   ]
  },
  {
   "cell_type": "code",
   "execution_count": null,
   "id": "7241332d",
   "metadata": {},
   "outputs": [],
   "source": [
    "res"
   ]
  },
  {
   "cell_type": "code",
   "execution_count": null,
   "id": "90341f9f",
   "metadata": {},
   "outputs": [],
   "source": []
  }
 ],
 "metadata": {
  "kernelspec": {
   "display_name": "Python 3",
   "language": "python",
   "name": "python3"
  },
  "language_info": {
   "codemirror_mode": {
    "name": "ipython",
    "version": 3
   },
   "file_extension": ".py",
   "mimetype": "text/x-python",
   "name": "python",
   "nbconvert_exporter": "python",
   "pygments_lexer": "ipython3",
   "version": "3.7.11"
  }
 },
 "nbformat": 4,
 "nbformat_minor": 5
}
