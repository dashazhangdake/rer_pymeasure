{
 "cells": [
  {
   "cell_type": "markdown",
   "id": "a9404eae",
   "metadata": {},
   "source": [
    "# Introduction to this \"tutorial\"\n",
    "\n",
    "This notebook is an interactive example for a \"simple\" **staircase sweep measurments experiment**, it can be loosely mapped to the Programming Example in pp-198 of B1500A mannual.\n",
    "\n",
    "Experimental configurations are:\n",
    "\n",
    "**Active SMUs: Terminals of MOSFET:**\n",
    "* SMU1 - **channel 1** - HPSMU: **Drain**  \n",
    "* SMU2 - **channel 3** - HPSMU: **Gate**\n",
    "* GND - channel xx - GNDU: **Source** \n",
    "    * (GNDU is not explicitly declared either in Pymeausure or Programming Manual, here we treat it as a **\"dont care\"**)"
   ]
  },
  {
   "cell_type": "markdown",
   "id": "152514ac",
   "metadata": {},
   "source": [
    "## 1. Setup environment"
   ]
  },
  {
   "cell_type": "code",
   "execution_count": 18,
   "id": "2b4d655d",
   "metadata": {},
   "outputs": [],
   "source": [
    "import pymeasure\n",
    "from pymeasure.adapters import VXI11Adapter\n",
    "from pymeasure.adapters import VISAAdapter\n",
    "from pymeasure.instruments import Instrument\n",
    "# from pymeasure.instruments.agilent import AgilentB1500\n",
    "from SourceCodes.agilent1505 import b1505a\n",
    "import time"
   ]
  },
  {
   "cell_type": "markdown",
   "id": "1d412b1c",
   "metadata": {},
   "source": [
    "## 2. Connect Instrument via adapter"
   ]
  },
  {
   "cell_type": "code",
   "execution_count": 19,
   "id": "066be63c",
   "metadata": {},
   "outputs": [],
   "source": [
    "# adapter = VXI11Adapter(\"TCPIP::10.8.128.178::gpib0,17::INSTR\")\n",
    "\n",
    "# Though VISA adapter throws warning messages. It works fine for this experiment\n",
    "adapter = VISAAdapter(\"TCPIP::10.8.128.178::gpib0,17::INSTR\")\n",
    "\n",
    "instr = b1505a(adapter, timeout='None')\n",
    "instr.reset()"
   ]
  },
  {
   "cell_type": "markdown",
   "id": "a0101019",
   "metadata": {},
   "source": [
    "* Query activate SMU modules being used"
   ]
  },
  {
   "cell_type": "code",
   "execution_count": 20,
   "id": "7c2e5fae",
   "metadata": {},
   "outputs": [
    {
     "name": "stdout",
     "output_type": "stream",
     "text": [
      "SMUs used: {1: 'HPSMU', 3: 'HPSMU', 5: 'MFCMU', 6: 'HCSMU', 8: 'HVSMU'}\n"
     ]
    }
   ],
   "source": [
    "module_names = instr.query_modules()\n",
    "print(f'SMUs used: {module_names}')"
   ]
  },
  {
   "cell_type": "markdown",
   "id": "54bf9679",
   "metadata": {},
   "source": [
    "* Initialize and Enable these SMUs\n",
    "* Enable filters\n",
    "* Use HRADC if possible"
   ]
  },
  {
   "cell_type": "code",
   "execution_count": 21,
   "id": "e065789a",
   "metadata": {},
   "outputs": [
    {
     "name": "stdout",
     "output_type": "stream",
     "text": [
      "smu1 stands for channel 1\n",
      "smu2 stands for channel 3\n",
      "smu3 stands for channel 6\n",
      "smu4 stands for channel 8\n"
     ]
    }
   ],
   "source": [
    "instr.initialize_all_smus()\n",
    "highres_adc = True\n",
    "for i, smu in enumerate(instr.smu_references, start=1):\n",
    "    smu.enable() # enable SMUs\n",
    "    print(f'smu{i} stands for channel {smu.channel}')\n",
    "    smu.filter = 1\n",
    "    if highres_adc:\n",
    "        if module_names[smu.channel] == 'HCSMU' or module_names[smu.channel] == 'HVSMU'\\\n",
    "            or module_names[smu.channel] == 'MCSMU': # Programming Mannual pp-353\n",
    "            pass\n",
    "        else:\n",
    "            smu.adc_type = 'HRADC'\n",
    "    smu.meas_op_mode = 'VOLTAGE'\n",
    "instr.data_format(21, mode=1)"
   ]
  },
  {
   "cell_type": "code",
   "execution_count": 22,
   "id": "8c8a8bf8",
   "metadata": {},
   "outputs": [
    {
     "name": "stdout",
     "output_type": "stream",
     "text": [
      "dict_values([<SourceCodes.agilent1505.rerSMU object at 0x7fc3e9dca910>, <SourceCodes.agilent1505.rerSMU object at 0x7fc3ed886550>, <SourceCodes.agilent1505.rerSMU object at 0x7fc3ed857390>, <SourceCodes.agilent1505.rerSMU object at 0x7fc3ed8185d0>])\n"
     ]
    }
   ],
   "source": [
    "print(instr.smu_references)"
   ]
  },
  {
   "cell_type": "code",
   "execution_count": 23,
   "id": "8037e54b",
   "metadata": {},
   "outputs": [],
   "source": [
    "instr.smu3.disable() # Disable SMUs we dont use\n",
    "instr.smu4.disable() # Disable SMUs we dont use\n",
    "\n",
    "drain = instr.smu1\n",
    "gate = instr.smu2 \n",
    "source = instr.GNDU  "
   ]
  },
  {
   "cell_type": "code",
   "execution_count": 24,
   "id": "42aa13fe",
   "metadata": {},
   "outputs": [],
   "source": [
    "instr.adc_setup('HRADC','MANUAL', 6)"
   ]
  },
  {
   "cell_type": "markdown",
   "id": "33eec72a",
   "metadata": {},
   "source": [
    "## Setup sampling (Stress sampling)\n",
    "Let's set sample point to 10 in this simple example"
   ]
  },
  {
   "cell_type": "code",
   "execution_count": 25,
   "id": "7ac78895",
   "metadata": {},
   "outputs": [],
   "source": [
    "t = 60\n",
    "nop = 10\n",
    "interval = t // nop\n",
    "nchannels = len(instr.smu_references)\n",
    "\n",
    "icomp = 0.1\n",
    "vg = 3\n",
    "vd = 3"
   ]
  },
  {
   "cell_type": "markdown",
   "id": "2f73d5b7",
   "metadata": {},
   "source": [
    "```sampling_timing``` mapped to ```MT```"
   ]
  },
  {
   "cell_type": "code",
   "execution_count": 26,
   "id": "dea7b8d5",
   "metadata": {},
   "outputs": [
    {
     "name": "stdout",
     "output_type": "stream",
     "text": [
      "arugment:  (<SourceCodes.agilent1505.rerSMU object at 0x7fc3e9dca910>, <SourceCodes.agilent1505.rerSMU object at 0x7fc3ed886550>, <SourceCodes.agilent1505.rerSMU object at 0x7fc3ed857390>, <SourceCodes.agilent1505.rerSMU object at 0x7fc3ed8185d0>)\n"
     ]
    }
   ],
   "source": [
    "instr.meas_mode('SAMPLING', *instr.smu_references)\n",
    "nchannels = len(instr.smu_references)"
   ]
  },
  {
   "cell_type": "code",
   "execution_count": 27,
   "id": "b53d3070",
   "metadata": {},
   "outputs": [],
   "source": [
    "instr.sampling_mode = 'LINEAR'\n",
    "instr.sampling_timing(0.1, 2, nop) ## sampling_timing(h_bias, interval, nop, h_base)\n",
    "instr.sampling_auto_abort(False,post='BIAS') #MSC: BASE/BIAS\n",
    "instr.time_stamp = True"
   ]
  },
  {
   "cell_type": "code",
   "execution_count": 28,
   "id": "4dc7ca24",
   "metadata": {},
   "outputs": [],
   "source": [
    "drain.sampling_source('VOLTAGE', 'Auto Ranging', vd, vd, icomp)\n",
    "gate.sampling_source('VOLTAGE', 'Auto Ranging', vg, vg, icomp)"
   ]
  },
  {
   "cell_type": "code",
   "execution_count": 29,
   "id": "3cfeec4e",
   "metadata": {},
   "outputs": [],
   "source": [
    "#Start Measurement\n",
    "instr.check_errors()\n",
    "instr.clear_buffer()\n",
    "instr.clear_timer()\n",
    "instr.send_trigger()"
   ]
  },
  {
   "cell_type": "code",
   "execution_count": 30,
   "id": "e1a9b7e7",
   "metadata": {},
   "outputs": [],
   "source": [
    "# instr.time_stamp = True"
   ]
  },
  {
   "cell_type": "code",
   "execution_count": 31,
   "id": "8977e683",
   "metadata": {},
   "outputs": [],
   "source": [
    "meas = []\n",
    "for i in range(nop):\n",
    "    read_data = instr.read_channels(1+2*nchannels) #Sampling Index + (time stamp + measurement value) * number of channels\n",
    "    # process live data for plotting etc.\n",
    "    # data format for every channel (status code, channel name e.g. 'SMU1', data name e.g 'Current Measurement (A)', value)\n",
    "    meas.append(read_data)"
   ]
  },
  {
   "cell_type": "code",
   "execution_count": 32,
   "id": "76f99162",
   "metadata": {},
   "outputs": [
    {
     "name": "stdout",
     "output_type": "stream",
     "text": [
      "[(('000', 'MISC', 'Sampling index', 1), ('000', 'SMU1', 'Time (s)', 0.21365), ('000', 'SMU1', 'Voltage Measurement (V)', 2.9996), ('000', 'SMU2', 'Time (s)', 0.21563), ('000', 'SMU2', 'Voltage Measurement (V)', 3.0), ('000', 'SMU3', 'Time (s)', 0.21712), ('000', 'SMU3', 'Voltage Measurement (V)', 0.0), ('000', 'SMU4', 'Time (s)', 0.21804), ('000', 'SMU4', 'Voltage Measurement (V)', 0.0028)), (('000', 'MISC', 'Sampling index', 2), ('000', 'SMU1', 'Time (s)', 2.21409), ('000', 'SMU1', 'Voltage Measurement (V)', 2.9996), ('000', 'SMU2', 'Time (s)', 2.2163), ('000', 'SMU2', 'Voltage Measurement (V)', 3.0), ('000', 'SMU3', 'Time (s)', 2.21769), ('000', 'SMU3', 'Voltage Measurement (V)', 4e-05), ('000', 'SMU4', 'Time (s)', 2.21853), ('000', 'SMU4', 'Voltage Measurement (V)', -0.0082)), (('000', 'MISC', 'Sampling index', 3), ('000', 'SMU1', 'Time (s)', 4.21404), ('000', 'SMU1', 'Voltage Measurement (V)', 2.9992), ('000', 'SMU2', 'Time (s)', 4.21583), ('000', 'SMU2', 'Voltage Measurement (V)', 2.9996), ('000', 'SMU3', 'Time (s)', 4.21722), ('000', 'SMU3', 'Voltage Measurement (V)', 2e-05), ('000', 'SMU4', 'Time (s)', 4.21804), ('000', 'SMU4', 'Voltage Measurement (V)', 0.0204)), (('000', 'MISC', 'Sampling index', 4), ('000', 'SMU1', 'Time (s)', 6.21404), ('000', 'SMU1', 'Voltage Measurement (V)', 2.9996), ('000', 'SMU2', 'Time (s)', 6.21602), ('000', 'SMU2', 'Voltage Measurement (V)', 2.9996), ('000', 'SMU3', 'Time (s)', 6.21742), ('000', 'SMU3', 'Voltage Measurement (V)', 0.0), ('000', 'SMU4', 'Time (s)', 6.21825), ('000', 'SMU4', 'Voltage Measurement (V)', -0.0086)), (('000', 'MISC', 'Sampling index', 5), ('000', 'SMU1', 'Time (s)', 8.21409), ('000', 'SMU1', 'Voltage Measurement (V)', 3.0), ('000', 'SMU2', 'Time (s)', 8.21588), ('000', 'SMU2', 'Voltage Measurement (V)', 2.9996), ('000', 'SMU3', 'Time (s)', 8.21726), ('000', 'SMU3', 'Voltage Measurement (V)', 2e-05), ('000', 'SMU4', 'Time (s)', 8.21809), ('000', 'SMU4', 'Voltage Measurement (V)', 0.0094)), (('000', 'MISC', 'Sampling index', 6), ('000', 'SMU1', 'Time (s)', 10.21405), ('000', 'SMU1', 'Voltage Measurement (V)', 2.9996), ('000', 'SMU2', 'Time (s)', 10.21603), ('000', 'SMU2', 'Voltage Measurement (V)', 3.0), ('000', 'SMU3', 'Time (s)', 10.21742), ('000', 'SMU3', 'Voltage Measurement (V)', 0.0), ('000', 'SMU4', 'Time (s)', 10.21825), ('000', 'SMU4', 'Voltage Measurement (V)', 0.005)), (('000', 'MISC', 'Sampling index', 7), ('000', 'SMU1', 'Time (s)', 12.2141), ('000', 'SMU1', 'Voltage Measurement (V)', 2.9992), ('000', 'SMU2', 'Time (s)', 12.21584), ('000', 'SMU2', 'Voltage Measurement (V)', 3.0), ('000', 'SMU3', 'Time (s)', 12.21722), ('000', 'SMU3', 'Voltage Measurement (V)', 0.0), ('000', 'SMU4', 'Time (s)', 12.21805), ('000', 'SMU4', 'Voltage Measurement (V)', 0.0034)), (('000', 'MISC', 'Sampling index', 8), ('000', 'SMU1', 'Time (s)', 14.2158), ('000', 'SMU1', 'Voltage Measurement (V)', 2.9996), ('000', 'SMU2', 'Time (s)', 14.2184), ('000', 'SMU2', 'Voltage Measurement (V)', 3.0), ('000', 'SMU3', 'Time (s)', 14.22004), ('000', 'SMU3', 'Voltage Measurement (V)', 0.0), ('000', 'SMU4', 'Time (s)', 14.2209), ('000', 'SMU4', 'Voltage Measurement (V)', 0.0056)), (('000', 'MISC', 'Sampling index', 9), ('000', 'SMU1', 'Time (s)', 16.21405), ('000', 'SMU1', 'Voltage Measurement (V)', 2.9996), ('000', 'SMU2', 'Time (s)', 16.21579), ('000', 'SMU2', 'Voltage Measurement (V)', 2.9996), ('000', 'SMU3', 'Time (s)', 16.21718), ('000', 'SMU3', 'Voltage Measurement (V)', -2e-05), ('000', 'SMU4', 'Time (s)', 16.21801), ('000', 'SMU4', 'Voltage Measurement (V)', 0.0072)), (('000', 'MISC', 'Sampling index', 10), ('000', 'SMU1', 'Time (s)', 18.2141), ('000', 'SMU1', 'Voltage Measurement (V)', 2.9996), ('000', 'SMU2', 'Time (s)', 18.21607), ('000', 'SMU2', 'Voltage Measurement (V)', 3.0), ('000', 'SMU3', 'Time (s)', 18.21746), ('000', 'SMU3', 'Voltage Measurement (V)', 2e-05), ('000', 'SMU4', 'Time (s)', 18.21829), ('128', 'SMU4', 'Voltage Measurement (V)', -0.0246))]\n"
     ]
    }
   ],
   "source": [
    "print(meas)"
   ]
  },
  {
   "cell_type": "code",
   "execution_count": 33,
   "id": "b69a6508",
   "metadata": {},
   "outputs": [
    {
     "name": "stdout",
     "output_type": "stream",
     "text": [
      "10\n"
     ]
    }
   ],
   "source": [
    "print(len(meas))"
   ]
  },
  {
   "cell_type": "code",
   "execution_count": 34,
   "id": "a271dd51",
   "metadata": {},
   "outputs": [
    {
     "name": "stdout",
     "output_type": "stream",
     "text": [
      "(('000', 'MISC', 'Sampling index', 1), ('000', 'SMU1', 'Time (s)', 0.21365), ('000', 'SMU1', 'Voltage Measurement (V)', 2.9996), ('000', 'SMU2', 'Time (s)', 0.21563), ('000', 'SMU2', 'Voltage Measurement (V)', 3.0), ('000', 'SMU3', 'Time (s)', 0.21712), ('000', 'SMU3', 'Voltage Measurement (V)', 0.0), ('000', 'SMU4', 'Time (s)', 0.21804), ('000', 'SMU4', 'Voltage Measurement (V)', 0.0028))\n",
      "(('000', 'MISC', 'Sampling index', 2), ('000', 'SMU1', 'Time (s)', 2.21409), ('000', 'SMU1', 'Voltage Measurement (V)', 2.9996), ('000', 'SMU2', 'Time (s)', 2.2163), ('000', 'SMU2', 'Voltage Measurement (V)', 3.0), ('000', 'SMU3', 'Time (s)', 2.21769), ('000', 'SMU3', 'Voltage Measurement (V)', 4e-05), ('000', 'SMU4', 'Time (s)', 2.21853), ('000', 'SMU4', 'Voltage Measurement (V)', -0.0082))\n",
      "(('000', 'MISC', 'Sampling index', 3), ('000', 'SMU1', 'Time (s)', 4.21404), ('000', 'SMU1', 'Voltage Measurement (V)', 2.9992), ('000', 'SMU2', 'Time (s)', 4.21583), ('000', 'SMU2', 'Voltage Measurement (V)', 2.9996), ('000', 'SMU3', 'Time (s)', 4.21722), ('000', 'SMU3', 'Voltage Measurement (V)', 2e-05), ('000', 'SMU4', 'Time (s)', 4.21804), ('000', 'SMU4', 'Voltage Measurement (V)', 0.0204))\n",
      "(('000', 'MISC', 'Sampling index', 4), ('000', 'SMU1', 'Time (s)', 6.21404), ('000', 'SMU1', 'Voltage Measurement (V)', 2.9996), ('000', 'SMU2', 'Time (s)', 6.21602), ('000', 'SMU2', 'Voltage Measurement (V)', 2.9996), ('000', 'SMU3', 'Time (s)', 6.21742), ('000', 'SMU3', 'Voltage Measurement (V)', 0.0), ('000', 'SMU4', 'Time (s)', 6.21825), ('000', 'SMU4', 'Voltage Measurement (V)', -0.0086))\n",
      "(('000', 'MISC', 'Sampling index', 5), ('000', 'SMU1', 'Time (s)', 8.21409), ('000', 'SMU1', 'Voltage Measurement (V)', 3.0), ('000', 'SMU2', 'Time (s)', 8.21588), ('000', 'SMU2', 'Voltage Measurement (V)', 2.9996), ('000', 'SMU3', 'Time (s)', 8.21726), ('000', 'SMU3', 'Voltage Measurement (V)', 2e-05), ('000', 'SMU4', 'Time (s)', 8.21809), ('000', 'SMU4', 'Voltage Measurement (V)', 0.0094))\n",
      "(('000', 'MISC', 'Sampling index', 6), ('000', 'SMU1', 'Time (s)', 10.21405), ('000', 'SMU1', 'Voltage Measurement (V)', 2.9996), ('000', 'SMU2', 'Time (s)', 10.21603), ('000', 'SMU2', 'Voltage Measurement (V)', 3.0), ('000', 'SMU3', 'Time (s)', 10.21742), ('000', 'SMU3', 'Voltage Measurement (V)', 0.0), ('000', 'SMU4', 'Time (s)', 10.21825), ('000', 'SMU4', 'Voltage Measurement (V)', 0.005))\n",
      "(('000', 'MISC', 'Sampling index', 7), ('000', 'SMU1', 'Time (s)', 12.2141), ('000', 'SMU1', 'Voltage Measurement (V)', 2.9992), ('000', 'SMU2', 'Time (s)', 12.21584), ('000', 'SMU2', 'Voltage Measurement (V)', 3.0), ('000', 'SMU3', 'Time (s)', 12.21722), ('000', 'SMU3', 'Voltage Measurement (V)', 0.0), ('000', 'SMU4', 'Time (s)', 12.21805), ('000', 'SMU4', 'Voltage Measurement (V)', 0.0034))\n",
      "(('000', 'MISC', 'Sampling index', 8), ('000', 'SMU1', 'Time (s)', 14.2158), ('000', 'SMU1', 'Voltage Measurement (V)', 2.9996), ('000', 'SMU2', 'Time (s)', 14.2184), ('000', 'SMU2', 'Voltage Measurement (V)', 3.0), ('000', 'SMU3', 'Time (s)', 14.22004), ('000', 'SMU3', 'Voltage Measurement (V)', 0.0), ('000', 'SMU4', 'Time (s)', 14.2209), ('000', 'SMU4', 'Voltage Measurement (V)', 0.0056))\n",
      "(('000', 'MISC', 'Sampling index', 9), ('000', 'SMU1', 'Time (s)', 16.21405), ('000', 'SMU1', 'Voltage Measurement (V)', 2.9996), ('000', 'SMU2', 'Time (s)', 16.21579), ('000', 'SMU2', 'Voltage Measurement (V)', 2.9996), ('000', 'SMU3', 'Time (s)', 16.21718), ('000', 'SMU3', 'Voltage Measurement (V)', -2e-05), ('000', 'SMU4', 'Time (s)', 16.21801), ('000', 'SMU4', 'Voltage Measurement (V)', 0.0072))\n",
      "(('000', 'MISC', 'Sampling index', 10), ('000', 'SMU1', 'Time (s)', 18.2141), ('000', 'SMU1', 'Voltage Measurement (V)', 2.9996), ('000', 'SMU2', 'Time (s)', 18.21607), ('000', 'SMU2', 'Voltage Measurement (V)', 3.0), ('000', 'SMU3', 'Time (s)', 18.21746), ('000', 'SMU3', 'Voltage Measurement (V)', 2e-05), ('000', 'SMU4', 'Time (s)', 18.21829), ('128', 'SMU4', 'Voltage Measurement (V)', -0.0246))\n"
     ]
    }
   ],
   "source": [
    "for e in meas:\n",
    "    print(e)"
   ]
  },
  {
   "cell_type": "code",
   "execution_count": null,
   "id": "c0261104",
   "metadata": {},
   "outputs": [],
   "source": []
  }
 ],
 "metadata": {
  "kernelspec": {
   "display_name": "Python 3",
   "language": "python",
   "name": "python3"
  },
  "language_info": {
   "codemirror_mode": {
    "name": "ipython",
    "version": 3
   },
   "file_extension": ".py",
   "mimetype": "text/x-python",
   "name": "python",
   "nbconvert_exporter": "python",
   "pygments_lexer": "ipython3",
   "version": "3.7.11"
  }
 },
 "nbformat": 4,
 "nbformat_minor": 5
}
